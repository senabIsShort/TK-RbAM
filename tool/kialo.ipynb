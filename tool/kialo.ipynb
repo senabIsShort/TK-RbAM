{
 "cells": [
  {
   "cell_type": "code",
   "execution_count": null,
   "metadata": {},
   "outputs": [],
   "source": [
    "from enum import Enum\n",
    "import requests\n",
    "import pandas as pd\n",
    "import os\n",
    "import shutil\n",
    "from langdetect import detect, LangDetectException"
   ]
  },
  {
   "cell_type": "code",
   "execution_count": null,
   "metadata": {},
   "outputs": [],
   "source": [
    "class KialoSort(Enum):\n",
    "  RANK_ACTIVITY = \"rank_and_latest_activity\"\n",
    "  VIEW          = \"view_count\"\n",
    "  LAST_ACTIVITY = \"latest_activity\"\n",
    "\n",
    "class KialoFilter(Enum):\n",
    "  PROMOTED      = \"promoted\"\n",
    "  PARTICIPATE   = \"participate\"\n",
    "  LAST_ACTIVITY = \"latest_activity\"\n",
    "  TAG           = \"tag\"\n",
    "  TAG_ALL       = \"tag_all\""
   ]
  },
  {
   "cell_type": "code",
   "execution_count": null,
   "metadata": {},
   "outputs": [],
   "source": [
    "class KialoTool:\n",
    "  def getTags(self):\n",
    "    tags = requests.get(\"https://www.kialo.com/api/v1/discussiontags\")\n",
    "    return [item['tagName'] for item in tags.json()[\"tags\"]]\n",
    "\n",
    "  def getDiscussions(self, filter: KialoFilter, sort: KialoSort, limit=3000):\n",
    "    req = \"https://www.kialo.com/api/v1/discussions?filter=\" + str(filter.value) + \"&sort=\" + str(sort.value) + \"&limit=\" + str(limit) + \"&skip=0\"\n",
    "    tags = requests.get(req)\n",
    "    return tags.json()[\"discussions\"]\n",
    "\n",
    "  def replaceSpecialChars(self, string):\n",
    "    string = string.replace(\"?\", \"\").replace(\" \", \"-\")\n",
    "    string = string.replace(\"/\", \"\").replace(\"(\", \"\").replace(\")\",\"\")\n",
    "    string = string.replace(\":\", \"\").replace(\",\", \"\").replace(\".\", \"\").replace(\";\", \"\")\n",
    "    string = string.replace(\"'\", \"\").replace('\"', \"\") # remove quotes and apostrophes\n",
    "    string = string.replace(\"%\", \"\").replace(\"#\", \"\")\n",
    "    return string\n",
    "\n",
    "  def discussions2urlID(self, discussions, export=False):\n",
    "    # idsUrl = [x[\"title\"].lower().replace(\"?\", \"\").replace(\" \", \"-\").replace(\"/\", \"\")+\"-\"+str(x[\"id\"]) for x in discussions]\n",
    "    idsUrl = [self.replaceSpecialChars(x[\"title\"].lower())+\"-\"+str(x[\"id\"]) for x in discussions]\n",
    "    tags = [x[\"tags\"] for x in discussions]\n",
    "    if export:\n",
    "      pd.DataFrame.from_dict({\"kialoUrlId\" : idsUrl, \"tags\" : tags}).to_csv(\"../rawData/kialo/kialo-url-ids.csv\")\n",
    "\n",
    "    return idsUrl\n",
    "\n",
    "k = KialoTool()"
   ]
  },
  {
   "cell_type": "markdown",
   "metadata": {},
   "source": [
    "### Export most active and high ranked kialo discussions"
   ]
  },
  {
   "cell_type": "code",
   "execution_count": null,
   "metadata": {},
   "outputs": [],
   "source": [
    "k.discussions2urlID(k.getDiscussions(filter=KialoFilter.TAG, sort=KialoSort.RANK_ACTIVITY), export=True)"
   ]
  },
  {
   "cell_type": "code",
   "execution_count": null,
   "metadata": {},
   "outputs": [],
   "source": [
    "kialoUsername = \"PLACEHOLDER\"\n",
    "secret      = \"PLACEHOLDER\""
   ]
  },
  {
   "cell_type": "code",
   "execution_count": null,
   "metadata": {},
   "outputs": [],
   "source": [
    "from selenium import webdriver\n",
    "from selenium.webdriver.chrome.options import Options\n",
    "from selenium.webdriver.support.ui import WebDriverWait\n",
    "from selenium.webdriver.support import expected_conditions as EC\n",
    "from selenium.webdriver.common.by import By\n",
    "import time\n",
    "from tqdm import tqdm\n",
    "\n",
    "def downloadDiscussions(disscusionUrlIds):\n",
    "  path = os.path.abspath(\"../rawData/kialo/debates\")\n",
    "\n",
    "\n",
    "  prefs = {\"download.default_directory\": path }\n",
    "  options = Options()\n",
    "  options.add_experimental_option(\"prefs\", prefs)\n",
    "  driver = webdriver.Chrome(options = options)\n",
    "\n",
    "\n",
    "  driver.get(\"https://www.kialo.com/login\")\n",
    "\n",
    "  #Login\n",
    "  id          = driver.find_element(By.ID, \"emailOrUsername\")\n",
    "  password    = driver.find_element(By.ID, \"password\")\n",
    "  loginButton = driver.find_element(By.CLASS_NAME, \"login-form__submit\")\n",
    "  id.send_keys(kialoUsername)\n",
    "  password.send_keys(secret)\n",
    "\n",
    "  loginButton.click()\n",
    "\n",
    "  myElem = WebDriverWait(driver, 3).until(EC.presence_of_element_located((By.CLASS_NAME, 'home-page-section__header')))\n",
    "\n",
    "\n",
    "  for urlId in tqdm(disscusionUrlIds):\n",
    "    driver.get(\"https://www.kialo.com/export/\" + urlId + \".txt\")\n",
    "    time.sleep(1.5)\n"
   ]
  },
  {
   "cell_type": "code",
   "execution_count": null,
   "metadata": {},
   "outputs": [],
   "source": [
    "downloadDiscussions(k.discussions2urlID(k.getDiscussions(filter=KialoFilter.TAG, sort=KialoSort.RANK_ACTIVITY), export=True))"
   ]
  },
  {
   "cell_type": "code",
   "execution_count": null,
   "metadata": {},
   "outputs": [],
   "source": [
    "def classify_files_by_language(base_folder_path):\n",
    "    \"\"\"Classify debate files by their language.\n",
    "\n",
    "    Args:\n",
    "        base_folder_path (os.path): The path to the folder containing the debate files.\n",
    "    \"\"\"\n",
    "    for filename in os.listdir(base_folder_path):\n",
    "        if filename.endswith(\".txt\"):\n",
    "            file_path = os.path.join(base_folder_path, filename)\n",
    "            \n",
    "            with open(file_path, 'r', encoding='utf-8') as f:\n",
    "                content = f.read()\n",
    "            \n",
    "            try:\n",
    "                lang = detect(content)\n",
    "                print(f\"File '{filename}' has been detected to be in language '{lang}'.\")\n",
    "\n",
    "                # Create folder for the language if not existing already\n",
    "                lang_folder = os.path.join(base_folder_path, lang)\n",
    "                if not os.path.exists(lang_folder):\n",
    "                    os.makedirs(lang_folder)\n",
    "                \n",
    "                # Copy file to the appropriate folder\n",
    "                new_file_path = os.path.join(lang_folder, filename)\n",
    "                shutil.copy(file_path, new_file_path)\n",
    "            \n",
    "            except LangDetectException:\n",
    "                print(f\"Failed to detect language of '{filename}'.\")\n",
    "\n",
    "# Chemin du dossier contenant les fichiers de débats\n",
    "base_folder_path = os.path.abspath(\"../rawData/kialo/debates\")\n",
    "\n",
    "# Exécuter la fonction\n",
    "classify_files_by_language(base_folder_path)"
   ]
  },
  {
   "cell_type": "code",
   "execution_count": null,
   "metadata": {},
   "outputs": [],
   "source": [
    "# Print number of debates in each language\n",
    "language_folders = [name for name in os.listdir(base_folder_path) if os.path.isdir(os.path.join(base_folder_path, name))]\n",
    "\n",
    "for lang in language_folders:\n",
    "    lang_folder = os.path.join(base_folder_path, lang)\n",
    "    print(f\"Language: {lang} -- Number of debates: {len(os.listdir(lang_folder))}\")"
   ]
  }
 ],
 "metadata": {
  "kernelspec": {
   "display_name": "tk-rbam",
   "language": "python",
   "name": "python3"
  },
  "language_info": {
   "codemirror_mode": {
    "name": "ipython",
    "version": 3
   },
   "file_extension": ".py",
   "mimetype": "text/x-python",
   "name": "python",
   "nbconvert_exporter": "python",
   "pygments_lexer": "ipython3",
   "version": "3.13.3"
  }
 },
 "nbformat": 4,
 "nbformat_minor": 2
}
